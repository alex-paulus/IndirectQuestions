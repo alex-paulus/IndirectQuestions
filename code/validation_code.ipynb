{
 "cells": [
  {
   "cell_type": "markdown",
   "metadata": {},
   "source": [
    "# Code to validate regular expressions\n",
    "\n",
    "### Communication Norms in Earnings Conference Calls: The Role of Indirect Questions\n",
    "### Alexander Paulus"
   ]
  },
  {
   "cell_type": "code",
   "execution_count": 1,
   "metadata": {},
   "outputs": [],
   "source": [
    "# Import of mandatory Python modules\n",
    "import pandas as pd\n",
    "import numpy as np\n",
    "import re\n",
    "from tqdm import tqdm_notebook as tqdm\n",
    "import matplotlib.pyplot as plt\n",
    "from sklearn.metrics import precision_score, recall_score, f1_score, accuracy_score\n",
    "from sklearn.metrics import confusion_matrix"
   ]
  },
  {
   "cell_type": "code",
   "execution_count": 2,
   "metadata": {},
   "outputs": [],
   "source": [
    "# Definition of regular expression pattern\n",
    "\n",
    "# Query preparatory phrases\n",
    "QueryPrepQ_1_regex = r\"(?i)\\b((CAN|COULD|WILL|WOULD|MAY|MIGHT) (I|YOU|WE|SOMEONE|ANYONE))\\b\\s?([\\w',&@#$%_\\-\\(\\)\\[\\]]+\\s){0,4}((ANY|MORE|SOME) (COLOR|COLOUR|THOUGHT\\w*)|ADD|ADDRESS|AFFIRM|ANSWER|ARTICULATE|ASK|BE\\b\\s?([\\w',&@#$%_\\-\\(\\)\\[\\]]+\\s){0,5}MORE SPECIFIC|BE CLEAR|BE SURE|BREAK\\b\\s?([\\w',&@#$%_\\-\\(\\)\\[\\]]+\\s){0,2}(DOWN|UP|OUT)|BRING\\b\\s?([\\w',&@#$%_\\-\\(\\)\\[\\]]+\\s){0,2}UP|BUILD ON|CALL OUT|CATEGORIZE|CHALLENGE|CHARACTERIZE|CHAT|CHECK|CIRCLE BACK|CITE|CLARIFY|CLOSE OUT|COME BACK|COMMENT|CONCENTRATE|CONFIRM|CONTRAST|COVER|CROSS-EXAMINE|DEEPEN|DEFINE|DELVE|DEMAND|DESCRIBE|DETAIL|DIAL|DIFFERENTIATE|DIG|DIMENSION\\w*|DIRECT|DISAGGREGATE|DISCLOSE|DISCUSS|DIVE|DOUBLE BACK|DOUBLE CHECK|DOUBLECHECK|DOUBLE-CHECK|DRILL|ELABORATE|EXAMINE|EXPAND|EXPLAIN|EXPLORE|FEEL|FIGURE OUT|FIND OUT|FLESH|FOCUS|FOLLOW\\w*|FRAME|GAIN\\b\\s?([\\w',&@#$%_\\-\\(\\)\\[\\]]+\\s){0,2}PERSPECTIVE|GATHER|GET|GIVE|GLEAN|GO\\b\\s?([\\w',&@#$%_\\-\\(\\)\\[\\]]+\\s){0,2}(BACK|BY|INTO|MORE|TO|THROUGH|OVER)|HEAR|HELP|HIGHLIGHT|HIT ON|INQUIRE|INTERROGATE|INVESTIGATE|JUMP (BACK|IN\\w*)|KNOW|LET\\b\\s?([\\w',&@#$%_\\-\\(\\)\\[\\]]+\\s){0,4}KNOW|LEVEL SET|LOOK|LOOK BACK|MAKE SURE|MENTION|MORE (COLOR|SPECIFIC)|NEEDLE|OFFER\\b\\s?([\\w',&@#$%_\\-\\(\\)\\[\\]]+\\s){0,2}INSIGHT\\w*|OUTLINE|OVERLAY|PARSE|PIGGYBACK|POINT|PRESSURE|PROBE|PROVIDE|PUT\\b\\s?([\\w',&@#$%_\\-\\(\\)\\[\\]]+\\s){0,4}(TOGETHER|CONTEXT)|QUALIFY|QUANTIFY|QUERY|QUESTION|RECAST|RECONCILE|RECONFIRM|REFRESH|REITERATE|REMIND|REPEAT|REQUEST|RESPOND|REVIEW|REVISIT|RUN\\b\\s?([\\w',&@#$%_\\-\\(\\)\\[\\]]+\\s){0,2}THROUGH|SAY|SCOPE|SEE|SENSE|SHARE|SHED|SKETCH\\b\\s?([\\w',&@#$%_\\-\\(\\)\\[\\]]+\\s){0,2}OUT|SNEAK|SPEAK|SPEND\\b\\s?([\\w',&@#$%_\\-\\(\\)\\[\\]]+\\s){0,4}TIME|SQUARE|SQUEEZE|START|STATE|STAY IN|STEP BACK|TALK|TAP INTO|TELL|TEMPT|TEST|THINK|TIE|TOUCH|TRANSLATE|TRY TO FIGURE OUT|TURN|UNDERSTAND|UNPACK|UNWIND|UPDATE\\w*|VERIFY|WALK\\b\\s?([\\w',&@#$%_\\-\\(\\)\\[\\]]+\\s){0,2}THROUGH)\\b\"\n",
    "QueryPrepQ_2_regex = r\"(?i)\\b(I('M| AM| )|WE('RE| ARE| ))\\b\\s?([\\w',&@#$%_\\-\\(\\)\\[\\]]+\\s){0,2}(HOPING|MAYBE|PERHEPS|PERCHANCE)\\b\\s?([\\w',&@#$%_\\-\\(\\)\\[\\]]+\\s){0,2}TO (GET|HAVE|HEAR|SEE|START)\\b\"\n",
    "QueryPrepQ_3_regex = r\"(?i)\\b(HOPING|MAYBE|PERHAPS|ANY (ADDITIONAL|COLOR|COLOUR|THOUGHT\\w*))\\b\\s?([\\w',&@#$%_\\-\\(\\)\\[\\]]+\\s){0,2}(I|YOU|WE|SOMEONE|ANYONE)\\b\\s?([\\w',&@#$%_\\-\\(\\)\\[\\]]+\\s){0,2}(CAN|COULD|WILL|WOULD|MAY|MIGHT)\\b\\s?([\\w',&@#$%_\\-\\(\\)\\[\\]]+\\s){0,4}((ANY|MORE|SOME) (COLOR|COLOUR|THOUGHT\\w*)|ADD|ADDRESS|AFFIRM|ANSWER|ARTICULATE|ASK|BE\\b\\s?([\\w',&@#$%_\\-\\(\\)\\[\\]]+\\s){0,5}MORE SPECIFIC|BE CLEAR|BE SURE|BREAK\\b\\s?([\\w',&@#$%_\\-\\(\\)\\[\\]]+\\s){0,2}(DOWN|UP|OUT)|BRING\\b\\s?([\\w',&@#$%_\\-\\(\\)\\[\\]]+\\s){0,2}UP|BUILD ON|CALL OUT|CATEGORIZE|CHALLENGE|CHARACTERIZE|CHAT|CHECK|CIRCLE BACK|CITE|CLARIFY|CLOSE OUT|COME BACK|COMMENT|CONCENTRATE|CONFIRM|CONTRAST|COVER|CROSS-EXAMINE|DEEPEN|DEFINE|DELVE|DEMAND|DESCRIBE|DETAIL|DIAL|DIFFERENTIATE|DIG|DIMENSION\\w*|DIRECT|DISAGGREGATE|DISCLOSE|DISCUSS|DIVE|DOUBLE BACK|DOUBLE CHECK|DOUBLECHECK|DOUBLE-CHECK|DRILL|ELABORATE|EXAMINE|EXPAND|EXPLAIN|EXPLORE|FEEL|FIGURE OUT|FIND OUT|FLESH|FOCUS|FOLLOW\\w*|FRAME|GAIN\\b\\s?([\\w',&@#$%_\\-\\(\\)\\[\\]]+\\s){0,2}PERSPECTIVE|GATHER|GET|GIVE|GLEAN|GO\\b\\s?([\\w',&@#$%_\\-\\(\\)\\[\\]]+\\s){0,2}(BACK|BY|INTO|MORE|TO|THROUGH|OVER)|HEAR|HELP|HIGHLIGHT|HIT ON|INQUIRE|INTERROGATE|INVESTIGATE|JUMP (BACK|IN\\w*)|KNOW|LET\\b\\s?([\\w',&@#$%_\\-\\(\\)\\[\\]]+\\s){0,4}KNOW|LEVEL SET|LOOK|LOOK BACK|MAKE SURE|MENTION|MORE (COLOR|SPECIFIC)|NEEDLE|OFFER\\b\\s?([\\w',&@#$%_\\-\\(\\)\\[\\]]+\\s){0,2}INSIGHT\\w*|OUTLINE|OUTLINE|OVERLAY|PARSE|PIGGYBACK|POINT|PRESSURE|PROBE|PROVIDE|PUT\\b\\s?([\\w',&@#$%_\\-\\(\\)\\[\\]]+\\s){0,4}(TOGETHER|CONTEXT)|QUALIFY|QUANTIFY|QUERY|QUESTION|RECAST|RECONCILE|RECONFIRM|REFRESH|REITERATE|REMIND|REPEAT|REQUEST|RESPOND|REVIEW|REVISIT|RUN\\b\\s?([\\w',&@#$%_\\-\\(\\)\\[\\]]+\\s){0,2}THROUGH|SAY|SCOPE|SEE|SENSE|SHARE|SHED|SKETCH\\b\\s?([\\w',&@#$%_\\-\\(\\)\\[\\]]+\\s){0,2}OUT|SNEAK|SPEAK|SPEND\\b\\s?([\\w',&@#$%_\\-\\(\\)\\[\\]]+\\s){0,4}TIME|SQUARE|SQUEEZE|START|STATE|STAY IN|STEP BACK|TALK|TAP INTO|TELL|TEMPT|TEST|THINK|TIE|TOUCH|TRANSLATE|TRY TO FIGURE OUT|TURN|UNDERSTAND|UNPACK|UNWIND|UPDATE\\w*|VERIFY|WALK\\b\\s?([\\w',&@#$%_\\-\\(\\)\\[\\]]+\\s){0,2}THROUGH)\\b\"\n",
    "QueryPrepQ_4_regex = r\"(?i)\\b(WHAT|WHEN|WHERE|WHO|WHOM|WHICH|WHOSE|WHY|HOW)\\b\\s?([\\w',&@#$%_\\-\\(\\)\\[\\]]+\\s){0,3}((CAN|COULD|WILL|WOULD|MAY|MIGHT) (I|YOU|WE))\\b\\s?([\\w',&@#$%_\\-\\(\\)\\[\\]]+\\s){0,4}((ANY|MORE|SOME) (COLOR|COLOUR|THOUGHT\\w*)|ADD|ADDRESS|AFFIRM|ANSWER|ARTICULATE|ASK|BE\\b\\s?([\\w',&@#$%_\\-\\(\\)\\[\\]]+\\s){0,5}MORE SPECIFIC|BE CLEAR|BE SURE|BREAK\\b\\s?([\\w',&@#$%_\\-\\(\\)\\[\\]]+\\s){0,2}(DOWN|UP|OUT)|BRING\\b\\s?([\\w',&@#$%_\\-\\(\\)\\[\\]]+\\s){0,2}UP|BUILD ON|CALL OUT|CATEGORIZE|CHALLENGE|CHARACTERIZE|CHAT|CHECK|CIRCLE BACK|CITE|CLARIFY|CLOSE OUT|COME BACK|COMMENT|CONCENTRATE|CONFIRM|CONTRAST|COVER|CROSS-EXAMINE|DEEPEN|DEFINE|DELVE|DEMAND|DESCRIBE|DETAIL|DIAL|DIFFERENTIATE|DIG|DIMENSION\\w*|DIRECT|DISAGGREGATE|DISCLOSE|DISCUSS|DIVE|DOUBLE BACK|DOUBLE CHECK|DOUBLECHECK|DOUBLE-CHECK|DRILL|ELABORATE|EXAMINE|EXPAND|EXPLAIN|EXPLORE|FEEL|FIGURE OUT|FIND OUT|FLESH|FOCUS|FOLLOW\\w*|FRAME|GAIN\\b\\s?([\\w',&@#$%_\\-\\(\\)\\[\\]]+\\s){0,2}PERSPECTIVE|GATHER|GET|GIVE|GLEAN|GO\\b\\s?([\\w',&@#$%_\\-\\(\\)\\[\\]]+\\s){0,2}(BACK|BY|INTO|MORE|TO|THROUGH|OVER)|HEAR|HELP|HIGHLIGHT|HIT ON|INQUIRE|INTERROGATE|INVESTIGATE|JUMP (BACK|IN\\w*)|KNOW|LET\\b\\s?([\\w',&@#$%_\\-\\(\\)\\[\\]]+\\s){0,4}KNOW|LEVEL SET|LOOK|LOOK BACK|MAKE SURE|MENTION|MORE (COLOR|SPECIFIC)|NEEDLE|OFFER\\b\\s?([\\w',&@#$%_\\-\\(\\)\\[\\]]+\\s){0,2}INSIGHT\\w*|OUTLINE|OVERLAY|PARSE|PIGGYBACK|POINT|PRESSURE|PROBE|PROVIDE|PUT\\b\\s?([\\w',&@#$%_\\-\\(\\)\\[\\]]+\\s){0,4}(TOGETHER|CONTEXT)|QUALIFY|QUANTIFY|QUERY|QUESTION|RECAST|RECONCILE|RECONFIRM|REFRESH|REITERATE|REMIND|REPEAT|REQUEST|RESPOND|REVIEW|REVISIT|RUN\\b\\s?([\\w',&@#$%_\\-\\(\\)\\[\\]]+\\s){0,2}THROUGH|SAY|SCOPE|SEE|SENSE|SHARE|SHED|SKETCH\\b\\s?([\\w',&@#$%_\\-\\(\\)\\[\\]]+\\s){0,2}OUT|SNEAK|SPEAK|SPEND\\b\\s?([\\w',&@#$%_\\-\\(\\)\\[\\]]+\\s){0,4}TIME|SQUARE|SQUEEZE|START|STATE|STAY IN|STEP BACK|TALK|TAP INTO|TELL|TEMPT|TEST|THINK|TIE|TOUCH|TRANSLATE|TRY TO FIGURE OUT|TURN|UNDERSTAND|UNPACK|UNWIND|UPDATE\\w*|VERIFY|WALK\\b\\s?([\\w',&@#$%_\\-\\(\\)\\[\\]]+\\s){0,2}THROUGH)\\b\"\n",
    "QueryPrepQ_5_regex = r\"(?i)\\b(THAT\\w*|WHAT)\\b\\s?([\\w',&@#$%_\\-\\(\\)\\[\\]]+\\s){0,3}(I('M| AM| )|WE('RE| ARE| ))\\b\\s?([\\w',&@#$%_\\-\\(\\)\\[\\]]+\\s){0,2}(HOPING|MAYBE|PERHEPS|PERCHANCE)\\b\\s?([\\w',&@#$%_\\-\\(\\)\\[\\]]+\\s){0,2}TO (GET|HAVE|HEAR|SEE|START)\\b\"\n",
    "\n",
    "# Hedged statements\n",
    "HedgedQ_1_regex = r\"(?i)\\b(WONDER\\w*|CURIOUS)\\b\"\n",
    "HedgedQ_2_regex = r\"(?i)\\b((I('M| AM| )|WE('RE| ARE| ))|WAS|JUST|WOULD BE)\\b\\s?([\\w',&@#$%_\\-\\(\\)\\[\\]]+\\s){0,2}((INTERESTED|INTERESTING)\\b\\s?([\\w',&@#$%_\\-\\(\\)\\[\\]]+\\s){0,2}(IN|TO|IF|WHETHER)|TRYING\\b\\s?([\\w',&@#$%_\\-\\(\\)\\[\\]]+\\s){0,2}(GET A SENSE|UNDERSTAND))\\b\"\n",
    "\n",
    "# Want statement\n",
    "WantQ_regex = r\"(?i)\\b(I|WE|ME|US|JUST)\\b\\s?([\\w',&@#$%_\\-\\(\\)\\[\\]]+\\s){0,3}(WANT\\w*|.*'D LIKE|WOULD LIKE)\\b\\s?([\\w',&@#$%_\\-\\(\\)\\[\\]]+\\s){0,1}TO\\b\\s?([\\w',&@#$%_\\-\\(\\)\\[\\]]+\\s){0,3}((ANY|MORE|SOME) (COLOR|COLOUR|THOUGHT\\w*)|ADD|ADDRESS|AFFIRM|ANSWER|ARTICULATE|ASK|BE\\b\\s?([\\w',&@#$%_\\-\\(\\)\\[\\]]+\\s){0,5}MORE SPECIFIC|BE CLEAR|BE SURE|BREAK\\b\\s?([\\w',&@#$%_\\-\\(\\)\\[\\]]+\\s){0,2}(DOWN|UP|OUT)|BRING\\b\\s?([\\w',&@#$%_\\-\\(\\)\\[\\]]+\\s){0,2}UP|BUILD ON|CALL OUT|CATEGORIZE|CHALLENGE|CHARACTERIZE|CHAT|CHECK|CIRCLE BACK|CITE|CLARIFY|CLOSE OUT|COME BACK|COMMENT|CONCENTRATE|CONFIRM|CONTRAST|COVER|CROSS-EXAMINE|DEEPEN|DEFINE|DELVE|DEMAND|DESCRIBE|DETAIL|DIAL|DIFFERENTIATE|DIG|DIMENSION\\w*|DIRECT|DISAGGREGATE|DISCLOSE|DISCUSS|DIVE|DOUBLE BACK|DOUBLE CHECK|DOUBLECHECK|DOUBLE-CHECK|DRILL|ELABORATE|EXAMINE|EXPAND|EXPLAIN|EXPLORE|FEEL|FIGURE OUT|FIND OUT|FLESH|FOCUS|FOLLOW\\w*|FRAME|GAIN\\b\\s?([\\w',&@#$%_\\-\\(\\)\\[\\]]+\\s){0,2}PERSPECTIVE|GATHER|GET|GIVE|GLEAN|GO\\b\\s?([\\w',&@#$%_\\-\\(\\)\\[\\]]+\\s){0,2}(BACK|BY|INTO|MORE|TO|THROUGH|OVER)|HEAR|HELP|HIGHLIGHT|HIT ON|INQUIRE|INTERROGATE|INVESTIGATE|JUMP (BACK|IN\\w*)|KNOW|LET\\b\\s?([\\w',&@#$%_\\-\\(\\)\\[\\]]+\\s){0,4}KNOW|LEVEL SET|LOOK|LOOK BACK|MAKE SURE|MENTION|MORE (COLOR|SPECIFIC)|NEEDLE|OFFER\\b\\s?([\\w',&@#$%_\\-\\(\\)\\[\\]]+\\s){0,2}INSIGHT\\w*|OUTLINE|OVERLAY|PARSE|PIGGYBACK|POINT|PRESSURE|PROBE|PROVIDE|PUT\\b\\s?([\\w',&@#$%_\\-\\(\\)\\[\\]]+\\s){0,4}(TOGETHER|CONTEXT)|QUALIFY|QUANTIFY|QUERY|QUESTION|RECAST|RECONCILE|RECONFIRM|REFRESH|REITERATE|REMIND|REPEAT|REQUEST|RESPOND|REVIEW|REVISIT|RUN\\b\\s?([\\w',&@#$%_\\-\\(\\)\\[\\]]+\\s){0,2}THROUGH|SAY|SCOPE|SEE|SENSE|SHARE|SHED|SKETCH\\b\\s?([\\w',&@#$%_\\-\\(\\)\\[\\]]+\\s){0,2}OUT|SNEAK|SPEAK|SPEND\\b\\s?([\\w',&@#$%_\\-\\(\\)\\[\\]]+\\s){0,4}TIME|SQUARE|SQUEEZE|START|STATE|STAY IN|STEP BACK|TALK|TAP INTO|TELL|TEMPT|TEST|THINK|TIE|TOUCH|TRANSLATE|TRY TO FIGURE OUT|TURN|UNDERSTAND|UNPACK|UNWIND|UPDATE\\w*|VERIFY|WALK\\b\\s?([\\w',&@#$%_\\-\\(\\)\\[\\]]+\\s){0,2}THROUGH|GET\\b\\s?([\\w',&@#$%_\\-\\(\\)\\[\\]]+\\s){0,2}(IMPRESSION|SENSE))\\b\"\n",
    "\n",
    "# If-clauses\n",
    "IfQ_1_regex = r\"(?i)\\bIF\\b\\s?([\\w',&@#$%_\\-\\(\\)\\[\\]]+\\s){0,4}YOU\\b\\s?([\\w',&@#$%_\\-\\(\\)\\[\\]]+\\s){0,2}(CAN|COULD|WILL|WOULD|MAY|MIGHT)\\b\\s?([\\w',&@#$%_\\-\\(\\)\\[\\]]+\\s){0,4}((ANY|MORE|SOME) (COLOR|COLOUR|THOUGHT\\w*)|ADD|ADDRESS|AFFIRM|ANSWER|ARTICULATE|ASK|BE\\b\\s?([\\w',&@#$%_\\-\\(\\)\\[\\]]+\\s){0,5}MORE SPECIFIC|BE CLEAR|BE SURE|BREAK\\b\\s?([\\w',&@#$%_\\-\\(\\)\\[\\]]+\\s){0,2}(DOWN|UP|OUT)|BRING\\b\\s?([\\w',&@#$%_\\-\\(\\)\\[\\]]+\\s){0,2}UP|BUILD ON|CALL OUT|CATEGORIZE|CHALLENGE|CHARACTERIZE|CHAT|CHECK|CIRCLE BACK|CITE|CLARIFY|CLOSE OUT|COME BACK|COMMENT|CONCENTRATE|CONFIRM|CONTRAST|COVER|CROSS-EXAMINE|DEEPEN|DEFINE|DELVE|DEMAND|DESCRIBE|DETAIL|DIAL|DIFFERENTIATE|DIG|DIMENSION\\w*|DIRECT|DISAGGREGATE|DISCLOSE|DISCUSS|DIVE|DOUBLE BACK|DOUBLE CHECK|DOUBLECHECK|DOUBLE-CHECK|DRILL|ELABORATE|EXAMINE|EXPAND|EXPLAIN|EXPLORE|FEEL|FIGURE OUT|FIND OUT|FLESH|FOCUS|FOLLOW\\w*|FRAME|GAIN\\b\\s?([\\w',&@#$%_\\-\\(\\)\\[\\]]+\\s){0,2}PERSPECTIVE|GATHER|GET|GIVE|GLEAN|GO\\b\\s?([\\w',&@#$%_\\-\\(\\)\\[\\]]+\\s){0,2}(BACK|BY|INTO|MORE|TO|THROUGH|OVER)|HEAR|HELP|HIGHLIGHT|HIT ON|INQUIRE|INTERROGATE|INVESTIGATE|JUMP (BACK|IN\\w*)|KNOW|LET\\b\\s?([\\w',&@#$%_\\-\\(\\)\\[\\]]+\\s){0,4}KNOW|LEVEL SET|LOOK|LOOK BACK|MAKE SURE|MENTION|MORE (COLOR|SPECIFIC)|NEEDLE|OFFER\\b\\s?([\\w',&@#$%_\\-\\(\\)\\[\\]]+\\s){0,2}INSIGHT\\w*|OUTLINE|OVERLAY|PARSE|PIGGYBACK|POINT|PRESSURE|PROBE|PROVIDE|PUT\\b\\s?([\\w',&@#$%_\\-\\(\\)\\[\\]]+\\s){0,4}(TOGETHER|CONTEXT)|QUALIFY|QUANTIFY|QUERY|QUESTION|RECAST|RECONCILE|RECONFIRM|REFRESH|REITERATE|REMIND|REPEAT|REQUEST|RESPOND|REVIEW|REVISIT|RUN\\b\\s?([\\w',&@#$%_\\-\\(\\)\\[\\]]+\\s){0,2}THROUGH|SAY|SCOPE|SEE|SENSE|SHARE|SHED|SKETCH\\b\\s?([\\w',&@#$%_\\-\\(\\)\\[\\]]+\\s){0,2}OUT|SNEAK|SPEAK|SPEND\\b\\s?([\\w',&@#$%_\\-\\(\\)\\[\\]]+\\s){0,4}TIME|SQUARE|SQUEEZE|START|STATE|STAY IN|STEP BACK|TALK|TAP INTO|TELL|TEMPT|TEST|THINK|TIE|TOUCH|TRANSLATE|TRY TO FIGURE OUT|TURN|UNDERSTAND|UNPACK|UNWIND|UPDATE\\w*|VERIFY|WALK\\b\\s?([\\w',&@#$%_\\-\\(\\)\\[\\]]+\\s){0,2}THROUGH)\\b\"\n",
    "IfQ_2_regex = r\"(?i)\\bIF\\b\\s?([\\w',&@#$%_\\-\\(\\)\\[\\]]+\\s){0,2}YOU\\b\\s?([\\w',&@#$%_\\-\\(\\)\\[\\]]+\\s){0,2}(.*'T|NOT)\\b\\s?([\\w',&@#$%_\\-\\(\\)\\[\\]]+\\s){0,2}(MIND)\\b\"\n",
    "IfQ_3_regex = r\"(?i)\\bIF\\b\\s?([\\w',&@#$%_\\-\\(\\)\\[\\]]+\\s){0,2}(I|WE)\\b\\s?([\\w',&@#$%_\\-\\(\\)\\[\\]]+\\s){0,2}(CAN|COULD|WILL|MAY|MIGHT)\\b\""
   ]
  },
  {
   "cell_type": "markdown",
   "metadata": {},
   "source": [
    "### Validation of training data"
   ]
  },
  {
   "cell_type": "code",
   "execution_count": 3,
   "metadata": {},
   "outputs": [
    {
     "data": {
      "application/vnd.jupyter.widget-view+json": {
       "model_id": "4670743ea7d24b4f825162c11bb2ad51",
       "version_major": 2,
       "version_minor": 0
      },
      "text/plain": [
       "HBox(children=(IntProgress(value=0, max=1000), HTML(value='')))"
      ]
     },
     "metadata": {},
     "output_type": "display_data"
    },
    {
     "name": "stdout",
     "output_type": "stream",
     "text": [
      "\n"
     ]
    }
   ],
   "source": [
    "# Loading of DataFrame\n",
    "df_qa = pd.read_excel(r'..\\data\\training_data_clean.xlsx')\n",
    "\n",
    "# Looping over all rows of DataFrame\n",
    "for row in tqdm(list(range(len(df_qa)))):\n",
    "        \n",
    "        # Reading of text from DataFrame\n",
    "        question = df_qa.loc[row, 'text_raw']\n",
    "\n",
    "        # Deletion of \"CAN YOU HEAR ME?\" phrase -> appears quite frequently but has no meaning\n",
    "        question = str(question).replace(\"CAN YOU HEAR ME\", \"\")\n",
    "        question = re.sub(\"([\\(\\[]).*?([\\)\\]])\", \"\", question)\n",
    "\n",
    "        # Deletion of questionmark mistakes     \n",
    "        question = question.replace('?', '? ').strip()    \n",
    "        question = question.replace('  ', ' ')\n",
    "\n",
    "        # Query preparatory phrases\n",
    "        df_qa.at[row, 'QueryPrepQ_1'] = len(re.findall(QueryPrepQ_1_regex, question))\n",
    "        df_qa.at[row, 'QueryPrepQ_2'] = len(re.findall(QueryPrepQ_2_regex, question))\n",
    "        df_qa.at[row, 'QueryPrepQ_3'] = len(re.findall(QueryPrepQ_3_regex, question))\n",
    "        df_qa.at[row, 'QueryPrepQ_4'] = len(re.findall(QueryPrepQ_4_regex, question))\n",
    "        df_qa.at[row, 'QueryPrepQ_5'] = len(re.findall(QueryPrepQ_5_regex, question))\n",
    "        nr_direct_query = df_qa.at[row, 'QueryPrepQ_1'] + df_qa.at[row, 'QueryPrepQ_2'] + df_qa.at[row, 'QueryPrepQ_3'] - df_qa.at[row, 'QueryPrepQ_4'] - df_qa.at[row, 'QueryPrepQ_5']\n",
    "        if nr_direct_query > 0:\n",
    "            df_qa.at[row, 'QueryPrepQ'] = 1\n",
    "        else:\n",
    "            df_qa.at[row, 'QueryPrepQ'] = 0\n",
    " \n",
    "        # Hedged statements\n",
    "        df_qa.at[row, 'HedgedQ_1'] = len(re.findall(HedgedQ_1_regex, question))\n",
    "        df_qa.at[row, 'HedgedQ_2'] = len(re.findall(HedgedQ_2_regex, question)) \n",
    "        if df_qa.at[row, 'HedgedQ_1'] > 0 or df_qa.at[row, 'HedgedQ_2'] > 0:\n",
    "            df_qa.at[row, 'HedgedQ'] = 1\n",
    "        else:\n",
    "            df_qa.at[row, 'HedgedQ'] = 0  \n",
    "\n",
    "        # Want statement\n",
    "        df_qa.at[row, 'WantQ'] = len(re.findall(WantQ_regex, question))\n",
    "        if df_qa.at[row, 'WantQ'] > 0:\n",
    "            df_qa.at[row, 'WantQ'] = 1\n",
    "        else:\n",
    "            df_qa.at[row, 'WantQ'] = 0    \n",
    "    \n",
    "        # If-clauses\n",
    "        df_qa.at[row, 'IfQ_1'] = len(re.findall(IfQ_1_regex, question))\n",
    "        df_qa.at[row, 'IfQ_2'] = len(re.findall(IfQ_2_regex, question))\n",
    "        df_qa.at[row, 'IfQ_3'] = len(re.findall(IfQ_3_regex, question))    \n",
    "        if df_qa.at[row, 'IfQ_1'] > 0 or df_qa.at[row, 'IfQ_2'] > 0 or df_qa.at[row, 'IfQ_3'] > 0:\n",
    "            df_qa.at[row, 'IfQ'] = 1\n",
    "        else:\n",
    "            df_qa.at[row, 'IfQ'] = 0  \n",
    "       \n",
    "        # Aggregation    \n",
    "        if df_qa.at[row, 'QueryPrepQ'] == 1 or df_qa.at[row, 'WantQ'] == 1 or df_qa.at[row, 'IfQ'] == 1 or df_qa.at[row, 'HedgedQ'] == 1:\n",
    "            df_qa.at[row, 'Indirectness'] = 1\n",
    "        else:\n",
    "            df_qa.at[row, 'Indirectness'] = 0\n",
    "\n",
    "# Save\n",
    "df_qa.to_excel(r'..\\data\\train_data_output.xlsx')"
   ]
  },
  {
   "cell_type": "code",
   "execution_count": 4,
   "metadata": {},
   "outputs": [
    {
     "name": "stdout",
     "output_type": "stream",
     "text": [
      "Precision training set: 0.973\n",
      "Recall training set: 0.979\n",
      "F1 training set: 0.976\n",
      "Accuracy training set: 0.984\n"
     ]
    }
   ],
   "source": [
    "# Calculation of accuracy scores\n",
    "\n",
    "# Precision\n",
    "print('Precision training set: %.3f' % precision_score(df_qa['Indirectness_manual'], df_qa['Indirectness']))\n",
    "\n",
    "# Recall\n",
    "print('Recall training set: %.3f' % recall_score(df_qa['Indirectness_manual'], df_qa['Indirectness']))\n",
    "\n",
    "# F1\n",
    "print('F1 training set: %.3f' % f1_score(df_qa['Indirectness_manual'], df_qa['Indirectness']))\n",
    "\n",
    "# Accuracy\n",
    "print('Accuracy training set: %.3f' % accuracy_score(df_qa['Indirectness_manual'], df_qa['Indirectness']))"
   ]
  },
  {
   "cell_type": "markdown",
   "metadata": {},
   "source": [
    "### Validation of testing data"
   ]
  },
  {
   "cell_type": "code",
   "execution_count": 5,
   "metadata": {},
   "outputs": [
    {
     "data": {
      "application/vnd.jupyter.widget-view+json": {
       "model_id": "77cd1ff229ce40b6bde00d3ec6da7082",
       "version_major": 2,
       "version_minor": 0
      },
      "text/plain": [
       "HBox(children=(IntProgress(value=0, max=500), HTML(value='')))"
      ]
     },
     "metadata": {},
     "output_type": "display_data"
    },
    {
     "name": "stdout",
     "output_type": "stream",
     "text": [
      "\n"
     ]
    }
   ],
   "source": [
    "# Loading of DataFrame\n",
    "df_qa = pd.read_excel(r'..\\data\\test_data_clean.xlsx')\n",
    "\n",
    "# Looping over all rows of DataFrame\n",
    "for row in tqdm(list(range(len(df_qa)))):\n",
    "        \n",
    "        # Reading of text from DataFrame\n",
    "        question = df_qa.loc[row, 'text_raw']\n",
    "\n",
    "        # Deletion of \"CAN YOU HEAR ME?\" phrase -> appears quite frequently but has no meaning\n",
    "        question = str(question).replace(\"CAN YOU HEAR ME\", \"\")\n",
    "        question = re.sub(\"([\\(\\[]).*?([\\)\\]])\", \"\", question)\n",
    "\n",
    "        # Deletion of questionmark mistakes     \n",
    "        question = question.replace('?', '? ').strip()    \n",
    "        question = question.replace('  ', ' ')\n",
    "\n",
    "        # Query preparatory phrases\n",
    "        df_qa.at[row, 'QueryPrepQ_1'] = len(re.findall(QueryPrepQ_1_regex, question))\n",
    "        df_qa.at[row, 'QueryPrepQ_2'] = len(re.findall(QueryPrepQ_2_regex, question))\n",
    "        df_qa.at[row, 'QueryPrepQ_3'] = len(re.findall(QueryPrepQ_3_regex, question))\n",
    "        df_qa.at[row, 'QueryPrepQ_4'] = len(re.findall(QueryPrepQ_4_regex, question))\n",
    "        df_qa.at[row, 'QueryPrepQ_5'] = len(re.findall(QueryPrepQ_5_regex, question))\n",
    "        nr_direct_query = df_qa.at[row, 'QueryPrepQ_1'] + df_qa.at[row, 'QueryPrepQ_2'] + df_qa.at[row, 'QueryPrepQ_3'] - df_qa.at[row, 'QueryPrepQ_4'] - df_qa.at[row, 'QueryPrepQ_5']\n",
    "        if nr_direct_query > 0:\n",
    "            df_qa.at[row, 'QueryPrepQ'] = 1\n",
    "        else:\n",
    "            df_qa.at[row, 'QueryPrepQ'] = 0\n",
    " \n",
    "        # Hedged statements\n",
    "        df_qa.at[row, 'HedgedQ_1'] = len(re.findall(HedgedQ_1_regex, question))\n",
    "        df_qa.at[row, 'HedgedQ_2'] = len(re.findall(HedgedQ_2_regex, question)) \n",
    "        if df_qa.at[row, 'HedgedQ_1'] > 0 or df_qa.at[row, 'HedgedQ_2'] > 0:\n",
    "            df_qa.at[row, 'HedgedQ'] = 1\n",
    "        else:\n",
    "            df_qa.at[row, 'HedgedQ'] = 0  \n",
    "\n",
    "        # Want statement\n",
    "        df_qa.at[row, 'WantQ'] = len(re.findall(WantQ_regex, question))\n",
    "        if df_qa.at[row, 'WantQ'] > 0:\n",
    "            df_qa.at[row, 'WantQ'] = 1\n",
    "        else:\n",
    "            df_qa.at[row, 'WantQ'] = 0    \n",
    "    \n",
    "        # If-clauses\n",
    "        df_qa.at[row, 'IfQ_1'] = len(re.findall(IfQ_1_regex, question))\n",
    "        df_qa.at[row, 'IfQ_2'] = len(re.findall(IfQ_2_regex, question))\n",
    "        df_qa.at[row, 'IfQ_3'] = len(re.findall(IfQ_3_regex, question))    \n",
    "        if df_qa.at[row, 'IfQ_1'] > 0 or df_qa.at[row, 'IfQ_2'] > 0 or df_qa.at[row, 'IfQ_3'] > 0:\n",
    "            df_qa.at[row, 'IfQ'] = 1\n",
    "        else:\n",
    "            df_qa.at[row, 'IfQ'] = 0  \n",
    "                \n",
    "        # Aggregation\n",
    "        if df_qa.at[row, 'QueryPrepQ'] == 1 or df_qa.at[row, 'WantQ'] == 1 or df_qa.at[row, 'IfQ'] == 1 or df_qa.at[row, 'HedgedQ'] == 1:\n",
    "            df_qa.at[row, 'Indirectness'] = 1\n",
    "        else:\n",
    "            df_qa.at[row, 'Indirectness'] = 0\n",
    "\n",
    "#Save\n",
    "df_qa.to_excel(r'..\\data\\test_data_output.xlsx')"
   ]
  },
  {
   "cell_type": "code",
   "execution_count": 6,
   "metadata": {},
   "outputs": [
    {
     "name": "stdout",
     "output_type": "stream",
     "text": [
      "Precision test set: 0.964\n",
      "Recall test set: 0.964\n",
      "F1 test set: 0.964\n",
      "Accuracy test set: 0.976\n"
     ]
    }
   ],
   "source": [
    "# Calculation of accuracy scores\n",
    "\n",
    "# Precision\n",
    "print('Precision test set: %.3f' % precision_score(df_qa['Indirectness_manual'], df_qa['Indirectness']))\n",
    "\n",
    "# Recall\n",
    "print('Recall test set: %.3f' % recall_score(df_qa['Indirectness_manual'], df_qa['Indirectness']))\n",
    "\n",
    "# F1\n",
    "print('F1 test set: %.3f' % f1_score(df_qa['Indirectness_manual'], df_qa['Indirectness']))\n",
    "\n",
    "# Accuracy\n",
    "print('Accuracy test set: %.3f' % accuracy_score(df_qa['Indirectness_manual'], df_qa['Indirectness']))"
   ]
  },
  {
   "cell_type": "code",
   "execution_count": 7,
   "metadata": {},
   "outputs": [
    {
     "data": {
      "image/png": "[encoded data removed]",
      "text/plain": [
       "<Figure size 360x360 with 1 Axes>"
      ]
     },
     "metadata": {
      "needs_background": "light"
     },
     "output_type": "display_data"
    }
   ],
   "source": [
    "# Generation of confusion matrix\n",
    "conf_matrix = confusion_matrix(y_true=df_qa['Indirectness_manual'], y_pred=df_qa['Indirectness'])\n",
    "\n",
    "# Plotting of confusion matrix\n",
    "fig, ax = plt.subplots(figsize=(5, 5))\n",
    "ax.matshow(conf_matrix, cmap=plt.cm.Oranges, alpha=0.3)\n",
    "for i in range(conf_matrix.shape[0]):\n",
    "    for j in range(conf_matrix.shape[1]):\n",
    "        ax.text(x=j, y=i,s=conf_matrix[i, j], va='center', ha='center', size='xx-large')\n",
    "plt.xlabel('Predictions',fontsize=18)\n",
    "plt.ylabel('Actuals', fontsize=18)\n",
    "plt.show()"
   ]
  }
 ],
 "metadata": {
  "kernelspec": {
   "display_name": "Python 3",
   "language": "python",
   "name": "python3"
  },
  "language_info": {
   "codemirror_mode": {
    "name": "ipython",
    "version": 3
   },
   "file_extension": ".py",
   "mimetype": "text/x-python",
   "name": "python",
   "nbconvert_exporter": "python",
   "pygments_lexer": "ipython3",
   "version": "3.7.4"
  }
 },
 "nbformat": 4,
 "nbformat_minor": 2
}
