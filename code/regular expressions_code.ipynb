{
 "cells": [
  {
   "cell_type": "markdown",
   "metadata": {},
   "source": [
    "# Regular expressions code\n",
    "\n",
    "### Communication Norms in Earnings Conference Calls: The Role of Indirect Questions\n",
    "### Alexander Paulus"
   ]
  },
  {
   "cell_type": "code",
   "execution_count": 3,
   "metadata": {},
   "outputs": [],
   "source": [
    "# Import of mandatory Python modules\n",
    "import pandas as pd\n",
    "import numpy as np\n",
    "import re"
   ]
  },
  {
   "cell_type": "code",
   "execution_count": 4,
   "metadata": {},
   "outputs": [],
   "source": [
    "# Definition of regular expression pattern\n",
    "\n",
    "# Query preparatory phrases\n",
    "QueryPrepQ_1_regex = r\"(?i)\\b((CAN|COULD|WILL|WOULD|MAY|MIGHT) (I|YOU|WE|SOMEONE|ANYONE))\\b\\s?([\\w',&@#$%_\\-\\(\\)\\[\\]]+\\s){0,4}((ANY|MORE|SOME) (COLOR|COLOUR|THOUGHT\\w*)|ADD|ADDRESS|AFFIRM|ANSWER|ARTICULATE|ASK|BE\\b\\s?([\\w',&@#$%_\\-\\(\\)\\[\\]]+\\s){0,5}MORE SPECIFIC|BE CLEAR|BE SURE|BREAK\\b\\s?([\\w',&@#$%_\\-\\(\\)\\[\\]]+\\s){0,2}(DOWN|UP|OUT)|BRING\\b\\s?([\\w',&@#$%_\\-\\(\\)\\[\\]]+\\s){0,2}UP|BUILD ON|CALL OUT|CATEGORIZE|CHALLENGE|CHARACTERIZE|CHAT|CHECK|CIRCLE BACK|CITE|CLARIFY|CLOSE OUT|COME BACK|COMMENT|CONCENTRATE|CONFIRM|CONTRAST|COVER|CROSS-EXAMINE|DEEPEN|DEFINE|DELVE|DEMAND|DESCRIBE|DETAIL|DIAL|DIFFERENTIATE|DIG|DIMENSION\\w*|DIRECT|DISAGGREGATE|DISCLOSE|DISCUSS|DIVE|DOUBLE BACK|DOUBLE CHECK|DOUBLECHECK|DOUBLE-CHECK|DRILL|ELABORATE|EXAMINE|EXPAND|EXPLAIN|EXPLORE|FEEL|FIGURE OUT|FIND OUT|FLESH|FOCUS|FOLLOW\\w*|FRAME|GAIN\\b\\s?([\\w',&@#$%_\\-\\(\\)\\[\\]]+\\s){0,2}PERSPECTIVE|GATHER|GET|GIVE|GLEAN|GO\\b\\s?([\\w',&@#$%_\\-\\(\\)\\[\\]]+\\s){0,2}(BACK|BY|INTO|MORE|TO|THROUGH|OVER)|HEAR|HELP|HIGHLIGHT|HIT ON|INQUIRE|INTERROGATE|INVESTIGATE|JUMP (BACK|IN\\w*)|KNOW|LET\\b\\s?([\\w',&@#$%_\\-\\(\\)\\[\\]]+\\s){0,4}KNOW|LEVEL SET|LOOK|LOOK BACK|MAKE SURE|MENTION|MORE (COLOR|SPECIFIC)|NEEDLE|OFFER\\b\\s?([\\w',&@#$%_\\-\\(\\)\\[\\]]+\\s){0,2}INSIGHT\\w*|OUTLINE|OVERLAY|PARSE|PIGGYBACK|POINT|PRESSURE|PROBE|PROVIDE|PUT\\b\\s?([\\w',&@#$%_\\-\\(\\)\\[\\]]+\\s){0,4}(TOGETHER|CONTEXT)|QUALIFY|QUANTIFY|QUERY|QUESTION|RECAST|RECONCILE|RECONFIRM|REFRESH|REITERATE|REMIND|REPEAT|REQUEST|RESPOND|REVIEW|REVISIT|RUN\\b\\s?([\\w',&@#$%_\\-\\(\\)\\[\\]]+\\s){0,2}THROUGH|SAY|SCOPE|SEE|SENSE|SHARE|SHED|SKETCH\\b\\s?([\\w',&@#$%_\\-\\(\\)\\[\\]]+\\s){0,2}OUT|SNEAK|SPEAK|SPEND\\b\\s?([\\w',&@#$%_\\-\\(\\)\\[\\]]+\\s){0,4}TIME|SQUARE|SQUEEZE|START|STATE|STAY IN|STEP BACK|TALK|TAP INTO|TELL|TEMPT|TEST|THINK|TIE|TOUCH|TRANSLATE|TRY TO FIGURE OUT|TURN|UNDERSTAND|UNPACK|UNWIND|UPDATE\\w*|VERIFY|WALK\\b\\s?([\\w',&@#$%_\\-\\(\\)\\[\\]]+\\s){0,2}THROUGH)\\b\"\n",
    "QueryPrepQ_2_regex = r\"(?i)\\b(I('M| AM| )|WE('RE| ARE| ))\\b\\s?([\\w',&@#$%_\\-\\(\\)\\[\\]]+\\s){0,2}(HOPING|MAYBE|PERHEPS|PERCHANCE)\\b\\s?([\\w',&@#$%_\\-\\(\\)\\[\\]]+\\s){0,2}TO (GET|HAVE|HEAR|SEE|START)\\b\"\n",
    "QueryPrepQ_3_regex = r\"(?i)\\b(HOPING|MAYBE|PERHAPS|ANY (ADDITIONAL|COLOR|COLOUR|THOUGHT\\w*))\\b\\s?([\\w',&@#$%_\\-\\(\\)\\[\\]]+\\s){0,2}(I|YOU|WE|SOMEONE|ANYONE)\\b\\s?([\\w',&@#$%_\\-\\(\\)\\[\\]]+\\s){0,2}(CAN|COULD|WILL|WOULD|MAY|MIGHT)\\b\\s?([\\w',&@#$%_\\-\\(\\)\\[\\]]+\\s){0,4}((ANY|MORE|SOME) (COLOR|COLOUR|THOUGHT\\w*)|ADD|ADDRESS|AFFIRM|ANSWER|ARTICULATE|ASK|BE\\b\\s?([\\w',&@#$%_\\-\\(\\)\\[\\]]+\\s){0,5}MORE SPECIFIC|BE CLEAR|BE SURE|BREAK\\b\\s?([\\w',&@#$%_\\-\\(\\)\\[\\]]+\\s){0,2}(DOWN|UP|OUT)|BRING\\b\\s?([\\w',&@#$%_\\-\\(\\)\\[\\]]+\\s){0,2}UP|BUILD ON|CALL OUT|CATEGORIZE|CHALLENGE|CHARACTERIZE|CHAT|CHECK|CIRCLE BACK|CITE|CLARIFY|CLOSE OUT|COME BACK|COMMENT|CONCENTRATE|CONFIRM|CONTRAST|COVER|CROSS-EXAMINE|DEEPEN|DEFINE|DELVE|DEMAND|DESCRIBE|DETAIL|DIAL|DIFFERENTIATE|DIG|DIMENSION\\w*|DIRECT|DISAGGREGATE|DISCLOSE|DISCUSS|DIVE|DOUBLE BACK|DOUBLE CHECK|DOUBLECHECK|DOUBLE-CHECK|DRILL|ELABORATE|EXAMINE|EXPAND|EXPLAIN|EXPLORE|FEEL|FIGURE OUT|FIND OUT|FLESH|FOCUS|FOLLOW\\w*|FRAME|GAIN\\b\\s?([\\w',&@#$%_\\-\\(\\)\\[\\]]+\\s){0,2}PERSPECTIVE|GATHER|GET|GIVE|GLEAN|GO\\b\\s?([\\w',&@#$%_\\-\\(\\)\\[\\]]+\\s){0,2}(BACK|BY|INTO|MORE|TO|THROUGH|OVER)|HEAR|HELP|HIGHLIGHT|HIT ON|INQUIRE|INTERROGATE|INVESTIGATE|JUMP (BACK|IN\\w*)|KNOW|LET\\b\\s?([\\w',&@#$%_\\-\\(\\)\\[\\]]+\\s){0,4}KNOW|LEVEL SET|LOOK|LOOK BACK|MAKE SURE|MENTION|MORE (COLOR|SPECIFIC)|NEEDLE|OFFER\\b\\s?([\\w',&@#$%_\\-\\(\\)\\[\\]]+\\s){0,2}INSIGHT\\w*|OUTLINE|OUTLINE|OVERLAY|PARSE|PIGGYBACK|POINT|PRESSURE|PROBE|PROVIDE|PUT\\b\\s?([\\w',&@#$%_\\-\\(\\)\\[\\]]+\\s){0,4}(TOGETHER|CONTEXT)|QUALIFY|QUANTIFY|QUERY|QUESTION|RECAST|RECONCILE|RECONFIRM|REFRESH|REITERATE|REMIND|REPEAT|REQUEST|RESPOND|REVIEW|REVISIT|RUN\\b\\s?([\\w',&@#$%_\\-\\(\\)\\[\\]]+\\s){0,2}THROUGH|SAY|SCOPE|SEE|SENSE|SHARE|SHED|SKETCH\\b\\s?([\\w',&@#$%_\\-\\(\\)\\[\\]]+\\s){0,2}OUT|SNEAK|SPEAK|SPEND\\b\\s?([\\w',&@#$%_\\-\\(\\)\\[\\]]+\\s){0,4}TIME|SQUARE|SQUEEZE|START|STATE|STAY IN|STEP BACK|TALK|TAP INTO|TELL|TEMPT|TEST|THINK|TIE|TOUCH|TRANSLATE|TRY TO FIGURE OUT|TURN|UNDERSTAND|UNPACK|UNWIND|UPDATE\\w*|VERIFY|WALK\\b\\s?([\\w',&@#$%_\\-\\(\\)\\[\\]]+\\s){0,2}THROUGH)\\b\"\n",
    "QueryPrepQ_4_regex = r\"(?i)\\b(WHAT|WHEN|WHERE|WHO|WHOM|WHICH|WHOSE|WHY|HOW)\\b\\s?([\\w',&@#$%_\\-\\(\\)\\[\\]]+\\s){0,3}((CAN|COULD|WILL|WOULD|MAY|MIGHT) (I|YOU|WE))\\b\\s?([\\w',&@#$%_\\-\\(\\)\\[\\]]+\\s){0,4}((ANY|MORE|SOME) (COLOR|COLOUR|THOUGHT\\w*)|ADD|ADDRESS|AFFIRM|ANSWER|ARTICULATE|ASK|BE\\b\\s?([\\w',&@#$%_\\-\\(\\)\\[\\]]+\\s){0,5}MORE SPECIFIC|BE CLEAR|BE SURE|BREAK\\b\\s?([\\w',&@#$%_\\-\\(\\)\\[\\]]+\\s){0,2}(DOWN|UP|OUT)|BRING\\b\\s?([\\w',&@#$%_\\-\\(\\)\\[\\]]+\\s){0,2}UP|BUILD ON|CALL OUT|CATEGORIZE|CHALLENGE|CHARACTERIZE|CHAT|CHECK|CIRCLE BACK|CITE|CLARIFY|CLOSE OUT|COME BACK|COMMENT|CONCENTRATE|CONFIRM|CONTRAST|COVER|CROSS-EXAMINE|DEEPEN|DEFINE|DELVE|DEMAND|DESCRIBE|DETAIL|DIAL|DIFFERENTIATE|DIG|DIMENSION\\w*|DIRECT|DISAGGREGATE|DISCLOSE|DISCUSS|DIVE|DOUBLE BACK|DOUBLE CHECK|DOUBLECHECK|DOUBLE-CHECK|DRILL|ELABORATE|EXAMINE|EXPAND|EXPLAIN|EXPLORE|FEEL|FIGURE OUT|FIND OUT|FLESH|FOCUS|FOLLOW\\w*|FRAME|GAIN\\b\\s?([\\w',&@#$%_\\-\\(\\)\\[\\]]+\\s){0,2}PERSPECTIVE|GATHER|GET|GIVE|GLEAN|GO\\b\\s?([\\w',&@#$%_\\-\\(\\)\\[\\]]+\\s){0,2}(BACK|BY|INTO|MORE|TO|THROUGH|OVER)|HEAR|HELP|HIGHLIGHT|HIT ON|INQUIRE|INTERROGATE|INVESTIGATE|JUMP (BACK|IN\\w*)|KNOW|LET\\b\\s?([\\w',&@#$%_\\-\\(\\)\\[\\]]+\\s){0,4}KNOW|LEVEL SET|LOOK|LOOK BACK|MAKE SURE|MENTION|MORE (COLOR|SPECIFIC)|NEEDLE|OFFER\\b\\s?([\\w',&@#$%_\\-\\(\\)\\[\\]]+\\s){0,2}INSIGHT\\w*|OUTLINE|OVERLAY|PARSE|PIGGYBACK|POINT|PRESSURE|PROBE|PROVIDE|PUT\\b\\s?([\\w',&@#$%_\\-\\(\\)\\[\\]]+\\s){0,4}(TOGETHER|CONTEXT)|QUALIFY|QUANTIFY|QUERY|QUESTION|RECAST|RECONCILE|RECONFIRM|REFRESH|REITERATE|REMIND|REPEAT|REQUEST|RESPOND|REVIEW|REVISIT|RUN\\b\\s?([\\w',&@#$%_\\-\\(\\)\\[\\]]+\\s){0,2}THROUGH|SAY|SCOPE|SEE|SENSE|SHARE|SHED|SKETCH\\b\\s?([\\w',&@#$%_\\-\\(\\)\\[\\]]+\\s){0,2}OUT|SNEAK|SPEAK|SPEND\\b\\s?([\\w',&@#$%_\\-\\(\\)\\[\\]]+\\s){0,4}TIME|SQUARE|SQUEEZE|START|STATE|STAY IN|STEP BACK|TALK|TAP INTO|TELL|TEMPT|TEST|THINK|TIE|TOUCH|TRANSLATE|TRY TO FIGURE OUT|TURN|UNDERSTAND|UNPACK|UNWIND|UPDATE\\w*|VERIFY|WALK\\b\\s?([\\w',&@#$%_\\-\\(\\)\\[\\]]+\\s){0,2}THROUGH)\\b\"\n",
    "QueryPrepQ_5_regex = r\"(?i)\\b(THAT\\w*|WHAT)\\b\\s?([\\w',&@#$%_\\-\\(\\)\\[\\]]+\\s){0,3}(I('M| AM| )|WE('RE| ARE| ))\\b\\s?([\\w',&@#$%_\\-\\(\\)\\[\\]]+\\s){0,2}(HOPING|MAYBE|PERHEPS|PERCHANCE)\\b\\s?([\\w',&@#$%_\\-\\(\\)\\[\\]]+\\s){0,2}TO (GET|HAVE|HEAR|SEE|START)\\b\"\n",
    "\n",
    "# Hedged statements\n",
    "HedgedQ_1_regex = r\"(?i)\\b(WONDER\\w*|CURIOUS)\\b\"\n",
    "HedgedQ_2_regex = r\"(?i)\\b((I('M| AM| )|WE('RE| ARE| ))|WAS|JUST|WOULD BE)\\b\\s?([\\w',&@#$%_\\-\\(\\)\\[\\]]+\\s){0,2}((INTERESTED|INTERESTING)\\b\\s?([\\w',&@#$%_\\-\\(\\)\\[\\]]+\\s){0,2}(IN|TO|IF|WHETHER)|TRYING\\b\\s?([\\w',&@#$%_\\-\\(\\)\\[\\]]+\\s){0,2}(GET A SENSE|UNDERSTAND))\\b\"\n",
    "\n",
    "# Want statement\n",
    "WantQ_regex = r\"(?i)\\b(I|WE|ME|US|JUST)\\b\\s?([\\w',&@#$%_\\-\\(\\)\\[\\]]+\\s){0,3}(WANT\\w*|.*'D LIKE|WOULD LIKE)\\b\\s?([\\w',&@#$%_\\-\\(\\)\\[\\]]+\\s){0,1}TO\\b\\s?([\\w',&@#$%_\\-\\(\\)\\[\\]]+\\s){0,3}((ANY|MORE|SOME) (COLOR|COLOUR|THOUGHT\\w*)|ADD|ADDRESS|AFFIRM|ANSWER|ARTICULATE|ASK|BE\\b\\s?([\\w',&@#$%_\\-\\(\\)\\[\\]]+\\s){0,5}MORE SPECIFIC|BE CLEAR|BE SURE|BREAK\\b\\s?([\\w',&@#$%_\\-\\(\\)\\[\\]]+\\s){0,2}(DOWN|UP|OUT)|BRING\\b\\s?([\\w',&@#$%_\\-\\(\\)\\[\\]]+\\s){0,2}UP|BUILD ON|CALL OUT|CATEGORIZE|CHALLENGE|CHARACTERIZE|CHAT|CHECK|CIRCLE BACK|CITE|CLARIFY|CLOSE OUT|COME BACK|COMMENT|CONCENTRATE|CONFIRM|CONTRAST|COVER|CROSS-EXAMINE|DEEPEN|DEFINE|DELVE|DEMAND|DESCRIBE|DETAIL|DIAL|DIFFERENTIATE|DIG|DIMENSION\\w*|DIRECT|DISAGGREGATE|DISCLOSE|DISCUSS|DIVE|DOUBLE BACK|DOUBLE CHECK|DOUBLECHECK|DOUBLE-CHECK|DRILL|ELABORATE|EXAMINE|EXPAND|EXPLAIN|EXPLORE|FEEL|FIGURE OUT|FIND OUT|FLESH|FOCUS|FOLLOW\\w*|FRAME|GAIN\\b\\s?([\\w',&@#$%_\\-\\(\\)\\[\\]]+\\s){0,2}PERSPECTIVE|GATHER|GET|GIVE|GLEAN|GO\\b\\s?([\\w',&@#$%_\\-\\(\\)\\[\\]]+\\s){0,2}(BACK|BY|INTO|MORE|TO|THROUGH|OVER)|HEAR|HELP|HIGHLIGHT|HIT ON|INQUIRE|INTERROGATE|INVESTIGATE|JUMP (BACK|IN\\w*)|KNOW|LET\\b\\s?([\\w',&@#$%_\\-\\(\\)\\[\\]]+\\s){0,4}KNOW|LEVEL SET|LOOK|LOOK BACK|MAKE SURE|MENTION|MORE (COLOR|SPECIFIC)|NEEDLE|OFFER\\b\\s?([\\w',&@#$%_\\-\\(\\)\\[\\]]+\\s){0,2}INSIGHT\\w*|OUTLINE|OVERLAY|PARSE|PIGGYBACK|POINT|PRESSURE|PROBE|PROVIDE|PUT\\b\\s?([\\w',&@#$%_\\-\\(\\)\\[\\]]+\\s){0,4}(TOGETHER|CONTEXT)|QUALIFY|QUANTIFY|QUERY|QUESTION|RECAST|RECONCILE|RECONFIRM|REFRESH|REITERATE|REMIND|REPEAT|REQUEST|RESPOND|REVIEW|REVISIT|RUN\\b\\s?([\\w',&@#$%_\\-\\(\\)\\[\\]]+\\s){0,2}THROUGH|SAY|SCOPE|SEE|SENSE|SHARE|SHED|SKETCH\\b\\s?([\\w',&@#$%_\\-\\(\\)\\[\\]]+\\s){0,2}OUT|SNEAK|SPEAK|SPEND\\b\\s?([\\w',&@#$%_\\-\\(\\)\\[\\]]+\\s){0,4}TIME|SQUARE|SQUEEZE|START|STATE|STAY IN|STEP BACK|TALK|TAP INTO|TELL|TEMPT|TEST|THINK|TIE|TOUCH|TRANSLATE|TRY TO FIGURE OUT|TURN|UNDERSTAND|UNPACK|UNWIND|UPDATE\\w*|VERIFY|WALK\\b\\s?([\\w',&@#$%_\\-\\(\\)\\[\\]]+\\s){0,2}THROUGH|GET\\b\\s?([\\w',&@#$%_\\-\\(\\)\\[\\]]+\\s){0,2}(IMPRESSION|SENSE))\\b\"\n",
    "\n",
    "# If-clauses\n",
    "IfQ_1_regex = r\"(?i)\\bIF\\b\\s?([\\w',&@#$%_\\-\\(\\)\\[\\]]+\\s){0,4}YOU\\b\\s?([\\w',&@#$%_\\-\\(\\)\\[\\]]+\\s){0,2}(CAN|COULD|WILL|WOULD|MAY|MIGHT)\\b\\s?([\\w',&@#$%_\\-\\(\\)\\[\\]]+\\s){0,4}((ANY|MORE|SOME) (COLOR|COLOUR|THOUGHT\\w*)|ADD|ADDRESS|AFFIRM|ANSWER|ARTICULATE|ASK|BE\\b\\s?([\\w',&@#$%_\\-\\(\\)\\[\\]]+\\s){0,5}MORE SPECIFIC|BE CLEAR|BE SURE|BREAK\\b\\s?([\\w',&@#$%_\\-\\(\\)\\[\\]]+\\s){0,2}(DOWN|UP|OUT)|BRING\\b\\s?([\\w',&@#$%_\\-\\(\\)\\[\\]]+\\s){0,2}UP|BUILD ON|CALL OUT|CATEGORIZE|CHALLENGE|CHARACTERIZE|CHAT|CHECK|CIRCLE BACK|CITE|CLARIFY|CLOSE OUT|COME BACK|COMMENT|CONCENTRATE|CONFIRM|CONTRAST|COVER|CROSS-EXAMINE|DEEPEN|DEFINE|DELVE|DEMAND|DESCRIBE|DETAIL|DIAL|DIFFERENTIATE|DIG|DIMENSION\\w*|DIRECT|DISAGGREGATE|DISCLOSE|DISCUSS|DIVE|DOUBLE BACK|DOUBLE CHECK|DOUBLECHECK|DOUBLE-CHECK|DRILL|ELABORATE|EXAMINE|EXPAND|EXPLAIN|EXPLORE|FEEL|FIGURE OUT|FIND OUT|FLESH|FOCUS|FOLLOW\\w*|FRAME|GAIN\\b\\s?([\\w',&@#$%_\\-\\(\\)\\[\\]]+\\s){0,2}PERSPECTIVE|GATHER|GET|GIVE|GLEAN|GO\\b\\s?([\\w',&@#$%_\\-\\(\\)\\[\\]]+\\s){0,2}(BACK|BY|INTO|MORE|TO|THROUGH|OVER)|HEAR|HELP|HIGHLIGHT|HIT ON|INQUIRE|INTERROGATE|INVESTIGATE|JUMP (BACK|IN\\w*)|KNOW|LET\\b\\s?([\\w',&@#$%_\\-\\(\\)\\[\\]]+\\s){0,4}KNOW|LEVEL SET|LOOK|LOOK BACK|MAKE SURE|MENTION|MORE (COLOR|SPECIFIC)|NEEDLE|OFFER\\b\\s?([\\w',&@#$%_\\-\\(\\)\\[\\]]+\\s){0,2}INSIGHT\\w*|OUTLINE|OVERLAY|PARSE|PIGGYBACK|POINT|PRESSURE|PROBE|PROVIDE|PUT\\b\\s?([\\w',&@#$%_\\-\\(\\)\\[\\]]+\\s){0,4}(TOGETHER|CONTEXT)|QUALIFY|QUANTIFY|QUERY|QUESTION|RECAST|RECONCILE|RECONFIRM|REFRESH|REITERATE|REMIND|REPEAT|REQUEST|RESPOND|REVIEW|REVISIT|RUN\\b\\s?([\\w',&@#$%_\\-\\(\\)\\[\\]]+\\s){0,2}THROUGH|SAY|SCOPE|SEE|SENSE|SHARE|SHED|SKETCH\\b\\s?([\\w',&@#$%_\\-\\(\\)\\[\\]]+\\s){0,2}OUT|SNEAK|SPEAK|SPEND\\b\\s?([\\w',&@#$%_\\-\\(\\)\\[\\]]+\\s){0,4}TIME|SQUARE|SQUEEZE|START|STATE|STAY IN|STEP BACK|TALK|TAP INTO|TELL|TEMPT|TEST|THINK|TIE|TOUCH|TRANSLATE|TRY TO FIGURE OUT|TURN|UNDERSTAND|UNPACK|UNWIND|UPDATE\\w*|VERIFY|WALK\\b\\s?([\\w',&@#$%_\\-\\(\\)\\[\\]]+\\s){0,2}THROUGH)\\b\"\n",
    "IfQ_2_regex = r\"(?i)\\bIF\\b\\s?([\\w',&@#$%_\\-\\(\\)\\[\\]]+\\s){0,2}YOU\\b\\s?([\\w',&@#$%_\\-\\(\\)\\[\\]]+\\s){0,2}(.*'T|NOT)\\b\\s?([\\w',&@#$%_\\-\\(\\)\\[\\]]+\\s){0,2}(MIND)\\b\"\n",
    "IfQ_3_regex = r\"(?i)\\bIF\\b\\s?([\\w',&@#$%_\\-\\(\\)\\[\\]]+\\s){0,2}(I|WE)\\b\\s?([\\w',&@#$%_\\-\\(\\)\\[\\]]+\\s){0,2}(CAN|COULD|WILL|MAY|MIGHT)\\b\""
   ]
  },
  {
   "cell_type": "code",
   "execution_count": 5,
   "metadata": {},
   "outputs": [],
   "source": [
    "# Definition of question - insert a question here\n",
    "question = 'INSERT QUESTION HERE'"
   ]
  },
  {
   "cell_type": "code",
   "execution_count": 8,
   "metadata": {},
   "outputs": [],
   "source": [
    "# Deletion of \"CAN YOU HEAR ME?\" phrase -> appears quite frequently but has no meaning\n",
    "question = str(question).replace(\"CAN YOU HEAR ME\", \"\")\n",
    "question = re.sub(\"([\\(\\[]).*?([\\)\\]])\", \"\", question)\n",
    "\n",
    "# Deletion of questionmark mistakes     \n",
    "question = question.replace('?', '? ').strip()    \n",
    "question = question.replace('  ', ' ')\n",
    "\n",
    "# Creation of DataFrame to report results\n",
    "df = pd.DataFrame()\n",
    "\n",
    "# Query preparatory phrases\n",
    "df.at[1, 'QueryPrepQ_1'] = len(re.findall(QueryPrepQ_1_regex, question))\n",
    "df.at[1, 'QueryPrepQ_2'] = len(re.findall(QueryPrepQ_2_regex, question))\n",
    "df.at[1, 'QueryPrepQ_3'] = len(re.findall(QueryPrepQ_3_regex, question))\n",
    "df.at[1, 'QueryPrepQ_4'] = len(re.findall(QueryPrepQ_4_regex, question))\n",
    "df.at[1, 'QueryPrepQ_5'] = len(re.findall(QueryPrepQ_5_regex, question))\n",
    "nr_direct_query = df.at[1, 'QueryPrepQ_1'] + df.at[1, 'QueryPrepQ_2'] + df.at[1, 'QueryPrepQ_3'] - df.at[1, 'QueryPrepQ_4'] - df.at[1, 'QueryPrepQ_5']\n",
    "if nr_direct_query > 0:\n",
    "    df.at[1, 'QueryPrepQ'] = 1\n",
    "else:\n",
    "    df.at[1, 'QueryPrepQ'] = 0\n",
    "\n",
    "# Hedged statements\n",
    "df.at[1, 'HedgedQ_1'] = len(re.findall(HedgedQ_1_regex, question))\n",
    "df.at[1, 'HedgedQ_2'] = len(re.findall(HedgedQ_2_regex, question)) \n",
    "if df.at[1, 'HedgedQ_1'] > 0 or df.at[1, 'HedgedQ_2'] > 0:\n",
    "    df.at[1, 'HedgedQ'] = 1\n",
    "else:\n",
    "    df.at[1, 'HedgedQ'] = 0  \n",
    "\n",
    "# Want statement\n",
    "df.at[1, 'WantQ'] = len(re.findall(WantQ_regex, question))\n",
    "if df.at[1, 'WantQ'] > 0:\n",
    "    df.at[1, 'WantQ'] = 1\n",
    "else:\n",
    "    df.at[1, 'WantQ'] = 0    \n",
    "\n",
    "# If-clauses\n",
    "df.at[1, 'IfQ_1'] = len(re.findall(IfQ_1_regex, question))\n",
    "df.at[1, 'IfQ_2'] = len(re.findall(IfQ_2_regex, question))\n",
    "df.at[1, 'IfQ_3'] = len(re.findall(IfQ_3_regex, question))    \n",
    "if df.at[1, 'IfQ_1'] > 0 or df.at[1, 'IfQ_2'] > 0 or df.at[1, 'IfQ_3'] > 0:\n",
    "    df.at[1, 'IfQ'] = 1\n",
    "else:\n",
    "    df.at[1, 'IfQ'] = 0  \n",
    "\n",
    "# Aggregation    \n",
    "if df.at[1, 'QueryPrepQ'] == 1 or df.at[1, 'WantQ'] == 1 or df.at[1, 'IfQ'] == 1 or df.at[1, 'HedgedQ'] == 1:\n",
    "    df.at[1, 'Indirectness'] = 1\n",
    "else:\n",
    "    df.at[1, 'Indirectness'] = 0"
   ]
  },
  {
   "cell_type": "code",
   "execution_count": 9,
   "metadata": {},
   "outputs": [
    {
     "data": {
      "text/html": [
       "<div>\n",
       "<style scoped>\n",
       "    .dataframe tbody tr th:only-of-type {\n",
       "        vertical-align: middle;\n",
       "    }\n",
       "\n",
       "    .dataframe tbody tr th {\n",
       "        vertical-align: top;\n",
       "    }\n",
       "\n",
       "    .dataframe thead th {\n",
       "        text-align: right;\n",
       "    }\n",
       "</style>\n",
       "<table border=\"1\" class=\"dataframe\">\n",
       "  <thead>\n",
       "    <tr style=\"text-align: right;\">\n",
       "      <th></th>\n",
       "      <th>QueryPrepQ_1</th>\n",
       "      <th>QueryPrepQ_2</th>\n",
       "      <th>QueryPrepQ_3</th>\n",
       "      <th>QueryPrepQ_4</th>\n",
       "      <th>QueryPrepQ_5</th>\n",
       "      <th>QueryPrepQ</th>\n",
       "      <th>HedgedQ_1</th>\n",
       "      <th>HedgedQ_2</th>\n",
       "      <th>HedgedQ</th>\n",
       "      <th>WantQ</th>\n",
       "      <th>IfQ_1</th>\n",
       "      <th>IfQ_2</th>\n",
       "      <th>IfQ_3</th>\n",
       "      <th>IfQ</th>\n",
       "      <th>Indirectness</th>\n",
       "    </tr>\n",
       "  </thead>\n",
       "  <tbody>\n",
       "    <tr>\n",
       "      <th>1</th>\n",
       "      <td>0.0</td>\n",
       "      <td>0.0</td>\n",
       "      <td>0.0</td>\n",
       "      <td>0.0</td>\n",
       "      <td>0.0</td>\n",
       "      <td>0.0</td>\n",
       "      <td>0.0</td>\n",
       "      <td>0.0</td>\n",
       "      <td>0.0</td>\n",
       "      <td>0.0</td>\n",
       "      <td>0.0</td>\n",
       "      <td>0.0</td>\n",
       "      <td>0.0</td>\n",
       "      <td>0.0</td>\n",
       "      <td>0.0</td>\n",
       "    </tr>\n",
       "  </tbody>\n",
       "</table>\n",
       "</div>"
      ],
      "text/plain": [
       "   QueryPrepQ_1  QueryPrepQ_2  QueryPrepQ_3  QueryPrepQ_4  QueryPrepQ_5  \\\n",
       "1           0.0           0.0           0.0           0.0           0.0   \n",
       "\n",
       "   QueryPrepQ  HedgedQ_1  HedgedQ_2  HedgedQ  WantQ  IfQ_1  IfQ_2  IfQ_3  IfQ  \\\n",
       "1         0.0        0.0        0.0      0.0    0.0    0.0    0.0    0.0  0.0   \n",
       "\n",
       "   Indirectness  \n",
       "1           0.0  "
      ]
     },
     "execution_count": 9,
     "metadata": {},
     "output_type": "execute_result"
    }
   ],
   "source": [
    "df"
   ]
  },
  {
   "cell_type": "code",
   "execution_count": null,
   "metadata": {},
   "outputs": [],
   "source": []
  }
 ],
 "metadata": {
  "kernelspec": {
   "display_name": "Python 3",
   "language": "python",
   "name": "python3"
  },
  "language_info": {
   "codemirror_mode": {
    "name": "ipython",
    "version": 3
   },
   "file_extension": ".py",
   "mimetype": "text/x-python",
   "name": "python",
   "nbconvert_exporter": "python",
   "pygments_lexer": "ipython3",
   "version": "3.7.4"
  }
 },
 "nbformat": 4,
 "nbformat_minor": 2
}
